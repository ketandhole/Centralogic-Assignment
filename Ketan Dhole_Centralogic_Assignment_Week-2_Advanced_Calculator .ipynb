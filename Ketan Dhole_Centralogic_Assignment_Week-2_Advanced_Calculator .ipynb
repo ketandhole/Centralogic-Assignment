{
 "cells": [
  {
   "cell_type": "raw",
   "id": "34f578ff",
   "metadata": {},
   "source": [
    "Introduction:\n",
    "\n",
    "      Objective:  \n",
    "                The objective of this assignment is to deepen your understanding of Python  programming by incorporating                         advanced string manipulation, type conversion, and  control flow structures (for loops, while loops, if-else                     statements). You will create an  enhanced calculator program that can handle multiple operations in a single                     input,  including basic arithmetic, power, and parentheses for operation precedence. \n",
    "      Requirements: \n",
    "                   ∙ Intermediate knowledge of Python programming language. \n",
    "                   ∙ Advanced skills in string manipulation techniques. \n",
    "                   ∙ Proficiency in using complex control flow structures like nested if-else, for, and  while loops. \n",
    "                   ∙ Understanding of type conversion and error handling in Python."
   ]
  },
  {
   "cell_type": "markdown",
   "id": "89eb3c35",
   "metadata": {},
   "source": [
    "Implimentation:"
   ]
  },
  {
   "cell_type": "code",
   "execution_count": 3,
   "id": "b1682df0",
   "metadata": {},
   "outputs": [
    {
     "name": "stdout",
     "output_type": "stream",
     "text": [
      "Enter a mathematical expression: (88 + 54) * (3 ^ 4) - 25 / 5\n",
      "Result: 11497.0\n"
     ]
    }
   ],
   "source": [
    "import re\n",
    "\n",
    "def tokenize(expression):\n",
    "    # Split the input expression into tokens (numbers, operators, parentheses)\n",
    "    # Using regular expressions to find sequences of digits, decimal points, or operators/parentheses\n",
    "    tokens = re.findall(r'\\d+\\.?\\d*|[\\+\\-\\*/\\^\\(\\)]', expression)\n",
    "    return tokens\n",
    "\n",
    "def shunting_yard(tokens):\n",
    "    # Define the precedence levels for operators\n",
    "    precedence = {'+': 1, '-': 1, '*': 2, '/': 2, '^': 3}\n",
    "    # Set of right associative operators (currently only the power operator)\n",
    "    right_associative = {'^'}\n",
    "    output = []  # List to hold the output in postfix notation\n",
    "    operators = []  # Stack to hold operators and parentheses\n",
    "\n",
    "    for token in tokens:\n",
    "        if re.match(r'\\d+\\.?\\d*', token):  # If the token is a number\n",
    "            output.append(token)\n",
    "        elif token in precedence:  # If the token is an operator\n",
    "            while (operators and operators[-1] in precedence and\n",
    "                   ((token not in right_associative and precedence[operators[-1]] >= precedence[token]) or\n",
    "                    (token in right_associative and precedence[operators[-1]] > precedence[token]))):\n",
    "                # Pop operators from the stack to the output list if they have higher or equal precedence\n",
    "                output.append(operators.pop())\n",
    "            operators.append(token)  # Push the current operator to the stack\n",
    "        elif token == '(':  # If the token is an opening parenthesis\n",
    "            operators.append(token)  # Push it to the stack\n",
    "        elif token == ')':  # If the token is a closing parenthesis\n",
    "            while operators and operators[-1] != '(':  # Pop from the stack to the output until an opening parenthesis is found\n",
    "                output.append(operators.pop())\n",
    "            operators.pop()  # Remove the opening parenthesis from the stack\n",
    "    \n",
    "    while operators:  # Pop all remaining operators from the stack to the output\n",
    "        output.append(operators.pop())\n",
    "    \n",
    "    return output\n",
    "\n",
    "def evaluate_rpn(tokens):\n",
    "    stack = []\n",
    "\n",
    "    for token in tokens:\n",
    "        if re.match(r'\\d+\\.?\\d*', token):  # If the token is a number\n",
    "            stack.append(float(token))  # Convert it to a float and push to the stack\n",
    "        else:  # If the token is an operator\n",
    "            b = stack.pop()  # Pop the top two numbers from the stack\n",
    "            a = stack.pop()\n",
    "            if token == '+':\n",
    "                stack.append(a + b)  # Perform addition and push the result to the stack\n",
    "            elif token == '-':\n",
    "                stack.append(a - b)  # Perform subtraction and push the result to the stack\n",
    "            elif token == '*':\n",
    "                stack.append(a * b)  # Perform multiplication and push the result to the stack\n",
    "            elif token == '/':\n",
    "                if b == 0:\n",
    "                    raise ZeroDivisionError(\"Division by zero.\")  # Handle division by zero\n",
    "                stack.append(a / b)  # Perform division and push the result to the stack\n",
    "            elif token == '^':\n",
    "                stack.append(a ** b)  # Perform power operation and push the result to the stack\n",
    "    \n",
    "    return stack[0]  # The final result is the only item left in the stack\n",
    "\n",
    "def evaluate_expression(expression):\n",
    "    try:\n",
    "        tokens = tokenize(expression)  # Convert the input expression to tokens\n",
    "        if not tokens:\n",
    "            raise ValueError(\"Empty expression.\")  # Handle empty input\n",
    "        postfix_tokens = shunting_yard(tokens)  # Convert tokens from infix to postfix notation\n",
    "        result = evaluate_rpn(postfix_tokens)  # Evaluate the postfix expression\n",
    "        return result\n",
    "    except ZeroDivisionError as e:\n",
    "        return str(e)  # Handle division by zero errors\n",
    "    except Exception as e:\n",
    "        return f\"Invalid expression: {e}\"  # Handle all other errors\n",
    "\n",
    "def main():\n",
    "    expression = input(\"Enter a mathematical expression: \")  # Prompt user for input\n",
    "    result = evaluate_expression(expression)  # Evaluate the input expression\n",
    "    if isinstance(result, float):\n",
    "        print(f\"Result: {result:.1f}\")  # Print the result as a floating-point number\n",
    "    else:\n",
    "        print(f\"Result: {result}\")  # Print error messages as they are\n",
    "\n",
    "if __name__ == \"__main__\":\n",
    "    main()  # Run the main function when the script is executed\n"
   ]
  },
  {
   "cell_type": "markdown",
   "id": "b2d64de0",
   "metadata": {},
   "source": [
    "Testing:"
   ]
  },
  {
   "cell_type": "raw",
   "id": "202b4ef2",
   "metadata": {},
   "source": [
    "1. Input: 5 + 3 * (2 ^ 4) - 10 / 2\n",
    "   Output: Result: 48.0\n",
    "\n",
    "\n",
    "2. Input: (10 + 5) * 3\n",
    "   Output: Result: 45.0\n",
    "        \n",
    "\n",
    "3. Input: 6 * 4 + 2 ^ 3\n",
    "   Output: Result: 32.0\n",
    "\n",
    "4. Input: 10 / 3\n",
    "   Output: Result: 3.3\n",
    "   \n",
    "5. Input: (88 + 54) * (3 ^ 4) - 25 / 5\n",
    "   Output: Result: 11497.0"
   ]
  },
  {
   "cell_type": "markdown",
   "id": "5aa062e6",
   "metadata": {},
   "source": [
    "Conclusion:"
   ]
  },
  {
   "cell_type": "raw",
   "id": "7b0bc01e",
   "metadata": {},
   "source": [
    "In this assignment, I developed an advanced calculator that accurately evaluates expressions according to the order of operations and precedence rules. The implementation ensures that the power operator is handled as right-associative and that the overall precedence and operations within parentheses are respected, resulting in the correct output."
   ]
  },
  {
   "cell_type": "code",
   "execution_count": null,
   "id": "eae711d1",
   "metadata": {},
   "outputs": [],
   "source": []
  }
 ],
 "metadata": {
  "kernelspec": {
   "display_name": "Python 3 (ipykernel)",
   "language": "python",
   "name": "python3"
  },
  "language_info": {
   "codemirror_mode": {
    "name": "ipython",
    "version": 3
   },
   "file_extension": ".py",
   "mimetype": "text/x-python",
   "name": "python",
   "nbconvert_exporter": "python",
   "pygments_lexer": "ipython3",
   "version": "3.11.3"
  }
 },
 "nbformat": 4,
 "nbformat_minor": 5
}
